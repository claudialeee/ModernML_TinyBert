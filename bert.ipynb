{
 "cells": [
  {
   "cell_type": "code",
   "execution_count": 1,
   "metadata": {},
   "outputs": [],
   "source": [
    "#installation\n",
    "# !conda install pytorch torchvision cudatoolkit=10.2 -c pytorch\n",
    "# !pip install transformers\n",
    "# !pip install pytorch_transformers"
   ]
  },
  {
   "cell_type": "code",
   "execution_count": 2,
   "metadata": {},
   "outputs": [],
   "source": [
    "# Tutorial copied from https://github.com/huggingface/transformers#usage"
   ]
  },
  {
   "cell_type": "code",
   "execution_count": 3,
   "metadata": {},
   "outputs": [],
   "source": [
    "import torch\n",
    "from torch import nn\n",
    "from transformers import BertModel, BertTokenizer\n",
    "CUDA_ENABLED  = 0\n",
    "from torch.utils.data import Dataset\n",
    "from itertools import islice\n",
    "from torch.utils.data import DataLoader\n",
    "import numpy as np\n",
    "\n",
    "def to_cuda(tensor):\n",
    "    if CUDA_ENABLED:\n",
    "        tensor = tensor.cuda()\n",
    "    return tensor\n",
    "def build_sentence_list(start_token, sentences):\n",
    "    text = [start_token]\n",
    "    for sentence in sentences:\n",
    "        text += sentence + ['SEP']\n",
    "    return text"
   ]
  },
  {
   "cell_type": "code",
   "execution_count": null,
   "metadata": {},
   "outputs": [],
   "source": []
  },
  {
   "cell_type": "code",
   "execution_count": 4,
   "metadata": {},
   "outputs": [],
   "source": [
    "\n",
    "class CustomDataset(Dataset):\n",
    "    def __init__(self, filename, num_bunches = 100):\n",
    "        self.num_bunches = num_bunches\n",
    "        self.num_lines = 114180969\n",
    "        self.bunch_width = self.num_lines // num_bunches\n",
    "        self.filename = filename\n",
    "        self.set_bunch(0)\n",
    "    def set_bunch(self, bunch_idx):\n",
    "        start = bunch_idx * self.bunch_width\n",
    "        end = (bunch_idx + 1) * self.bunch_width\n",
    "        with open(self.filename, encoding='iso-8859-1') as f:\n",
    "            lines = [line[:-1] for line in islice(f, start, end)]\n",
    "        self.X = lines\n",
    "    def preprocess(self, text):\n",
    "        return text\n",
    "    def __len__(self):\n",
    "        return len(self.X)\n",
    "    def __getitem__(self, index):\n",
    "        return self.X[index]"
   ]
  },
  {
   "cell_type": "code",
   "execution_count": 5,
   "metadata": {},
   "outputs": [],
   "source": [
    "dataset = CustomDataset('enwiki-latest-pages-articles_preprocessed.txt')\n",
    "\n",
    "#Wrap it around a dataloader\n",
    "dataloader = DataLoader(dataset, batch_size = 2, num_workers = 0)\n",
    "\n",
    "class MaskLMDataset:\n",
    "    def __init__(self, dataset, dataloader):\n",
    "        self.dataset = dataset\n",
    "        self.dataloader = dataloader"
   ]
  },
  {
   "cell_type": "code",
   "execution_count": 7,
   "metadata": {
    "scrolled": true
   },
   "outputs": [
    {
     "name": "stdout",
     "output_type": "stream",
     "text": [
      "10\n",
      "99\n",
      "174\n"
     ]
    }
   ],
   "source": [
    "itr = 0\n",
    "for text, lengths_and_masks in dataloader:\n",
    "    print(len(text))\n",
    "    itr += 1\n",
    "    if itr > 2:\n",
    "        break"
   ]
  },
  {
   "cell_type": "code",
   "execution_count": 39,
   "metadata": {},
   "outputs": [],
   "source": [
    "import pdb"
   ]
  },
  {
   "cell_type": "code",
   "execution_count": 43,
   "metadata": {},
   "outputs": [],
   "source": [
    "\n",
    "class PretrainedModel(nn.Module):\n",
    "    def __init__(self):\n",
    "        super(PretrainedModel, self).__init__()\n",
    "        self.model = to_cuda(BertModel.from_pretrained(\n",
    "            'bert-base-uncased',\n",
    "            output_hidden_states=True,\n",
    "            output_attentions=True\n",
    "        ))\n",
    "        self.model.eval()\n",
    "        self.tokenizer = BertTokenizer.from_pretrained('bert-base-uncased')\n",
    "\n",
    "    def forward(self, text = None, tokenized_text = None, attention_mask = None):\n",
    "        if text is not None:\n",
    "            tokenized_text = to_cuda(torch.tensor([self.tokenizer.encode(text, add_special_tokens=True)]))\n",
    "        if attention_mask is None:\n",
    "            attention_mask = to_cuda(torch.tensor([[1]*len(tokenized_text)]))\n",
    "        all_hidden_states, all_attentions = self.model(tokenized_text, attention_mask = attention_mask)[-2:]\n",
    "        return all_hidden_states\n",
    "        \n",
    "model = PretrainedModel()\n",
    "# hidden_states = model(\"Here is some text to encode\")\n",
    "\n",
    "len(hidden_states)\n",
    "\n",
    "class TinyBert(nn.Module):\n",
    "    def __init__(self):\n",
    "        super(TinyBert, self).__init__()\n",
    "        \n",
    "    def forward(self, text):\n",
    "        return"
   ]
  },
  {
   "cell_type": "code",
   "execution_count": 55,
   "metadata": {},
   "outputs": [],
   "source": [
    "\n",
    "class Model(nn.Module):\n",
    "    def __init__(self):\n",
    "        super(Model, self).__init__()\n",
    "        self.pretrained_model = PretrainedModel()\n",
    "        self.tinybert = TinyBert()\n",
    "        self.tokenizer = self.pretrained_model.tokenizer\n",
    "        self.y = []\n",
    "\n",
    "    def forward(self, text):\n",
    "        self.y = []\n",
    "        sentences = [build_sentence_list(\n",
    "            'CLS', [self.tokenizer.tokenize(line)]) for line in text]\n",
    "        \n",
    "        lengths = [len(sentence) - 2 for sentence in sentences]\n",
    "        mask_idxes = [np.random.randint(0, length) for length in lengths]\n",
    "        \n",
    "        masks = [np.ones(length + 2) for length in lengths]\n",
    "        for mask_idx, mask, sentence in zip(mask_idxes, masks, sentences):\n",
    "            mask[mask_idx + 1] = 0\n",
    "            self.y.append(sentence[mask_idx + 1])\n",
    "            sentence[mask_idx + 1] = '[MASK]'\n",
    "        print(self.y, masks, sentences)\n",
    "        \n",
    "        mask = to_cuda(torch.tensor(masks))\n",
    "        tokenized_text = to_cuda(torch.tensor([\n",
    "            self.tokenizer.convert_tokens_to_ids(sentence) for sentence in sentences]))\n",
    "        \n",
    "        pretrained_hidden_states = self.pretrained_model(\n",
    "            tokenized_text = tokenized_text, attention_mask = mask)\n",
    "        \n",
    "        return pretrained_hidden\n",
    "        "
   ]
  },
  {
   "cell_type": "code",
   "execution_count": 56,
   "metadata": {
    "scrolled": true
   },
   "outputs": [
    {
     "name": "stdout",
     "output_type": "stream",
     "text": [
      "['there'] [array([1., 1., 0., 1.])] [['CLS', 'hi', '[MASK]', 'SEP']]\n"
     ]
    }
   ],
   "source": [
    "mdl = Model()\n",
    "\n",
    "pretrained_hidden = mdl(['hi there'])\n"
   ]
  },
  {
   "cell_type": "code",
   "execution_count": 61,
   "metadata": {},
   "outputs": [
    {
     "data": {
      "text/plain": [
       "13"
      ]
     },
     "execution_count": 61,
     "metadata": {},
     "output_type": "execute_result"
    }
   ],
   "source": [
    "len(pretrained_hidden)"
   ]
  },
  {
   "cell_type": "code",
   "execution_count": null,
   "metadata": {},
   "outputs": [],
   "source": []
  }
 ],
 "metadata": {
  "kernelspec": {
   "display_name": "Python 3",
   "language": "python",
   "name": "python3"
  },
  "language_info": {
   "codemirror_mode": {
    "name": "ipython",
    "version": 3
   },
   "file_extension": ".py",
   "mimetype": "text/x-python",
   "name": "python",
   "nbconvert_exporter": "python",
   "pygments_lexer": "ipython3",
   "version": "3.7.6"
  }
 },
 "nbformat": 4,
 "nbformat_minor": 4
}
