{
 "cells": [
  {
   "cell_type": "code",
   "execution_count": 1,
   "metadata": {},
   "outputs": [],
   "source": [
    "#installation\n",
    "# !conda install pytorch torchvision cudatoolkit=10.2 -c pytorch\n",
    "# !pip install transformers\n",
    "# !pip install pytorch_transformers"
   ]
  },
  {
   "cell_type": "code",
   "execution_count": 2,
   "metadata": {},
   "outputs": [],
   "source": [
    "# Tutorial copied from https://github.com/huggingface/transformers#usage"
   ]
  },
  {
   "cell_type": "code",
   "execution_count": 3,
   "metadata": {},
   "outputs": [],
   "source": [
    "import torch\n",
    "from torch import nn\n",
    "from transformers import BertModel, BertTokenizer\n",
    "CUDA_ENABLED  = 0\n",
    "from torch.utils.data import Dataset\n",
    "from itertools import islice\n",
    "from torch.utils.data import DataLoader\n",
    "import numpy as np\n",
    "\n",
    "def to_cuda(tensor):\n",
    "    if CUDA_ENABLED:\n",
    "        tensor = tensor.cuda()\n",
    "    return tensor\n",
    "def build_sentence_list(start_token, sentences):\n",
    "    text = [start_token]\n",
    "    for sentence in sentences:\n",
    "        text += sentence + ['SEP']\n",
    "    return text"
   ]
  },
  {
   "cell_type": "code",
   "execution_count": null,
   "metadata": {},
   "outputs": [],
   "source": []
  },
  {
   "cell_type": "code",
   "execution_count": 4,
   "metadata": {},
   "outputs": [],
   "source": [
    "\n",
    "class CustomDataset(Dataset):\n",
    "    def __init__(self, filename, num_bunches = 100):\n",
    "        self.num_bunches = num_bunches\n",
    "        self.num_lines = 114180969\n",
    "        self.bunch_width = self.num_lines // num_bunches\n",
    "        self.filename = filename\n",
    "        self.set_bunch(0)\n",
    "    def set_bunch(self, bunch_idx):\n",
    "        start = bunch_idx * self.bunch_width\n",
    "        end = (bunch_idx + 1) * self.bunch_width\n",
    "        with open(self.filename, encoding='iso-8859-1') as f:\n",
    "            lines = [line[:-1] for line in islice(f, start, end)]\n",
    "        self.X = lines\n",
    "    def preprocess(self, text):\n",
    "        return text\n",
    "    def __len__(self):\n",
    "        return len(self.X)\n",
    "    def __getitem__(self, index):\n",
    "        return self.X[index]"
   ]
  },
  {
   "cell_type": "code",
   "execution_count": 5,
   "metadata": {},
   "outputs": [],
   "source": [
    "dataset = CustomDataset('enwiki-latest-pages-articles_preprocessed.txt')\n",
    "\n",
    "#Wrap it around a dataloader\n",
    "dataloader = DataLoader(dataset, batch_size = 2, num_workers = 0)\n",
    "\n",
    "class MaskLMDataset:\n",
    "    def __init__(self, dataset, dataloader):\n",
    "        self.dataset = dataset\n",
    "        self.dataloader = dataloader"
   ]
  },
  {
   "cell_type": "code",
   "execution_count": 7,
   "metadata": {
    "scrolled": true
   },
   "outputs": [
    {
     "name": "stdout",
     "output_type": "stream",
     "text": [
      "10\n",
      "99\n",
      "174\n"
     ]
    }
   ],
   "source": [
    "itr = 0\n",
    "for text, lengths_and_masks in dataloader:\n",
    "    print(len(text))\n",
    "    itr += 1\n",
    "    if itr > 2:\n",
    "        break"
   ]
  },
  {
   "cell_type": "code",
   "execution_count": 39,
   "metadata": {},
   "outputs": [],
   "source": [
    "import pdb"
   ]
  },
  {
   "cell_type": "code",
   "execution_count": 82,
   "metadata": {},
   "outputs": [],
   "source": [
    "\n",
    "class PretrainedModel(nn.Module):\n",
    "    def __init__(self):\n",
    "        super(PretrainedModel, self).__init__()\n",
    "        self.model = to_cuda(BertModel.from_pretrained(\n",
    "            'bert-base-uncased',\n",
    "            output_hidden_states=True,\n",
    "            output_attentions=True\n",
    "        ))\n",
    "        self.model.eval()\n",
    "        self.tokenizer = BertTokenizer.from_pretrained('bert-base-uncased')\n",
    "\n",
    "    def forward(self, text = None, tokenized_text = None, attention_mask = None):\n",
    "        if text is not None:\n",
    "            tokenized_text = to_cuda(torch.tensor([self.tokenizer.encode(text, add_special_tokens=True)]))\n",
    "        if attention_mask is None:\n",
    "            attention_mask = to_cuda(torch.tensor([[1]*len(tokenized_text)]))\n",
    "        all_hidden_states, all_attentions = self.model(tokenized_text, attention_mask = attention_mask)[-2:]\n",
    "        return all_hidden_states\n",
    "        \n",
    "model = PretrainedModel()\n",
    "# hidden_states = model(\"Here is some text to encode\")\n",
    "\n",
    "len(hidden_states)\n",
    "\n",
    "class TinyBert(nn.Module):\n",
    "    def __init__(self):\n",
    "        super(TinyBert, self).__init__()\n",
    "        \n",
    "    def forward(self, text):\n",
    "        return"
   ]
  },
  {
   "cell_type": "code",
   "execution_count": 102,
   "metadata": {},
   "outputs": [],
   "source": [
    "from tensorflow.python.keras.preprocessing.sequence import pad_sequences\n",
    "\n",
    "class Model(nn.Module):\n",
    "    def __init__(self):\n",
    "        super(Model, self).__init__()\n",
    "        self.pretrained_model = PretrainedModel()\n",
    "        self.tinybert = TinyBert()\n",
    "        self.tokenizer = self.pretrained_model.tokenizer\n",
    "        self.y = []\n",
    "\n",
    "    def forward(self, text):\n",
    "        if isinstance(text[0], list):\n",
    "            return self.forward_sentence(text)\n",
    "        elif isinstance(text[0], str):\n",
    "            return self.forward_maskLM(text)\n",
    "        else:\n",
    "            raise ValueError('wtf is this text?' + text + type(text[0]))\n",
    "    def forward_maskLM(self, text):\n",
    "        self.y = []\n",
    "        sentences = [build_sentence_list(\n",
    "            'CLS', [self.tokenizer.tokenize(line)]) for line in text]\n",
    "        \n",
    "        lengths = [len(sentence) - 2 for sentence in sentences]\n",
    "        mask_idxes = [np.random.randint(0, length) for length in lengths]\n",
    "        \n",
    "        masks = [np.ones(length + 2) for length in lengths]\n",
    "        for mask_idx, mask, sentence in zip(mask_idxes, masks, sentences):\n",
    "            mask[mask_idx + 1] = 0\n",
    "            self.y.append(sentence[mask_idx + 1])\n",
    "            sentence[mask_idx + 1] = '[MASK]'\n",
    "        attention_mask = to_cuda(torch.tensor(pad_sequences(masks, padding='post')))\n",
    "        tokenized_text = to_cuda(torch.tensor(pad_sequences([\n",
    "            self.tokenizer.convert_tokens_to_ids(sentence) for sentence in sentences]).tolist()))\n",
    "        print(tokenized_text.shape)\n",
    "        pretrained_hidden = self.pretrained_model(\n",
    "            tokenized_text = tokenized_text, attention_mask = attention_mask)\n",
    "        \n",
    "        return pretrained_hidden\n",
    "        "
   ]
  },
  {
   "cell_type": "code",
   "execution_count": 103,
   "metadata": {
    "scrolled": true
   },
   "outputs": [
    {
     "name": "stdout",
     "output_type": "stream",
     "text": [
      "torch.Size([2, 5])\n"
     ]
    }
   ],
   "source": [
    "mdl = Model()\n",
    "\n",
    "pretrained_hidden = mdl(['hi there', 'how are you'])\n"
   ]
  },
  {
   "cell_type": "code",
   "execution_count": 104,
   "metadata": {},
   "outputs": [
    {
     "data": {
      "text/plain": [
       "13"
      ]
     },
     "execution_count": 104,
     "metadata": {},
     "output_type": "execute_result"
    }
   ],
   "source": [
    "len(pretrained_hidden)"
   ]
  },
  {
   "cell_type": "code",
   "execution_count": 105,
   "metadata": {},
   "outputs": [
    {
     "data": {
      "text/plain": [
       "torch.Size([2, 5, 768])"
      ]
     },
     "execution_count": 105,
     "metadata": {},
     "output_type": "execute_result"
    }
   ],
   "source": [
    "pretrained_hidden[4].shape"
   ]
  },
  {
   "cell_type": "code",
   "execution_count": 115,
   "metadata": {},
   "outputs": [
    {
     "data": {
      "text/plain": [
       "(array([1.000e+00, 0.000e+00, 0.000e+00, 0.000e+00, 0.000e+00, 1.000e+00,\n",
       "        0.000e+00, 0.000e+00, 0.000e+00, 0.000e+00, 0.000e+00, 0.000e+00,\n",
       "        0.000e+00, 0.000e+00, 0.000e+00, 0.000e+00, 0.000e+00, 0.000e+00,\n",
       "        0.000e+00, 1.000e+00, 1.000e+00, 0.000e+00, 0.000e+00, 0.000e+00,\n",
       "        0.000e+00, 0.000e+00, 0.000e+00, 0.000e+00, 0.000e+00, 0.000e+00,\n",
       "        0.000e+00, 0.000e+00, 0.000e+00, 0.000e+00, 0.000e+00, 0.000e+00,\n",
       "        0.000e+00, 0.000e+00, 0.000e+00, 0.000e+00, 1.000e+00, 0.000e+00,\n",
       "        0.000e+00, 0.000e+00, 0.000e+00, 1.000e+00, 0.000e+00, 0.000e+00,\n",
       "        1.000e+00, 0.000e+00, 0.000e+00, 2.000e+00, 1.000e+00, 2.000e+00,\n",
       "        0.000e+00, 2.000e+00, 3.000e+00, 1.200e+01, 2.400e+01, 2.700e+01,\n",
       "        5.500e+01, 8.300e+01, 1.090e+02, 1.840e+02, 2.680e+02, 3.320e+02,\n",
       "        4.360e+02, 5.450e+02, 8.630e+02, 1.198e+03, 9.950e+02, 7.120e+02,\n",
       "        5.130e+02, 4.320e+02, 3.140e+02, 2.090e+02, 1.700e+02, 7.800e+01,\n",
       "        4.900e+01, 2.300e+01, 1.200e+01, 1.100e+01, 4.000e+00, 3.000e+00,\n",
       "        0.000e+00, 0.000e+00, 0.000e+00, 0.000e+00, 0.000e+00, 0.000e+00,\n",
       "        0.000e+00, 0.000e+00, 0.000e+00, 0.000e+00, 0.000e+00, 0.000e+00,\n",
       "        1.000e+00, 0.000e+00, 0.000e+00, 1.000e+00]),\n",
       " array([-9.510994  , -9.374685  , -9.238376  , -9.102067  , -8.965757  ,\n",
       "        -8.829449  , -8.69314   , -8.55683   , -8.420522  , -8.284213  ,\n",
       "        -8.147903  , -8.011595  , -7.8752856 , -7.7389765 , -7.6026673 ,\n",
       "        -7.4663587 , -7.3300495 , -7.1937404 , -7.057431  , -6.9211226 ,\n",
       "        -6.7848134 , -6.6485043 , -6.512195  , -6.3758864 , -6.2395773 ,\n",
       "        -6.103268  , -5.966959  , -5.83065   , -5.694341  , -5.558032  ,\n",
       "        -5.421723  , -5.2854137 , -5.149105  , -5.012796  , -4.876487  ,\n",
       "        -4.7401776 , -4.603869  , -4.46756   , -4.3312507 , -4.1949415 ,\n",
       "        -4.058633  , -3.9223237 , -3.7860146 , -3.6497056 , -3.5133965 ,\n",
       "        -3.3770876 , -3.2407784 , -3.1044695 , -2.9681604 , -2.8318515 ,\n",
       "        -2.6955423 , -2.5592332 , -2.4229243 , -2.2866151 , -2.1503062 ,\n",
       "        -2.013997  , -1.8776882 , -1.7413791 , -1.6050701 , -1.4687611 ,\n",
       "        -1.332452  , -1.196143  , -1.059834  , -0.9235249 , -0.7872159 ,\n",
       "        -0.65090686, -0.51459783, -0.37828878, -0.24197975, -0.10567072,\n",
       "         0.03063831,  0.16694735,  0.3032564 ,  0.43956542,  0.57587445,\n",
       "         0.7121835 ,  0.8484925 ,  0.98480153,  1.1211106 ,  1.2574196 ,\n",
       "         1.3937286 ,  1.5300376 ,  1.6663467 ,  1.8026557 ,  1.9389647 ,\n",
       "         2.0752738 ,  2.211583  ,  2.3478918 ,  2.484201  ,  2.6205099 ,\n",
       "         2.756819  ,  2.893128  ,  3.029437  ,  3.165746  ,  3.3020551 ,\n",
       "         3.438364  ,  3.5746732 ,  3.710982  ,  3.8472912 ,  3.9836001 ,\n",
       "         4.1199093 ], dtype=float32),\n",
       " <a list of 100 Patch objects>)"
      ]
     },
     "execution_count": 115,
     "metadata": {},
     "output_type": "execute_result"
    },
    {
     "data": {
      "image/png": "[encoded data removed]",
      "text/plain": [
       "<Figure size 432x288 with 1 Axes>"
      ]
     },
     "metadata": {
      "needs_background": "light"
     },
     "output_type": "display_data"
    }
   ],
   "source": [
    "import matplotlib.pyplot as plt\n",
    "plt.hist(pretrained_hidden[0].reshape(-1).detach().numpy(), bins = 100)"
   ]
  },
  {
   "cell_type": "code",
   "execution_count": null,
   "metadata": {},
   "outputs": [],
   "source": []
  }
 ],
 "metadata": {
  "kernelspec": {
   "display_name": "Python 3",
   "language": "python",
   "name": "python3"
  },
  "language_info": {
   "codemirror_mode": {
    "name": "ipython",
    "version": 3
   },
   "file_extension": ".py",
   "mimetype": "text/x-python",
   "name": "python",
   "nbconvert_exporter": "python",
   "pygments_lexer": "ipython3",
   "version": "3.7.6"
  }
 },
 "nbformat": 4,
 "nbformat_minor": 4
}
