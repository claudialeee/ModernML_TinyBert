{
 "cells": [
  {
   "cell_type": "code",
   "execution_count": 13,
   "metadata": {
    "tags": []
   },
   "outputs": [],
   "source": [
    "#blingfire text_to_sentence\n",
    "\n",
    "#!/usr/bin/env python\n",
    "# -*- coding: utf-8 -*-\n",
    "import sys\n",
    "from pathlib import Path\n",
    "from blingfire import text_to_sentences\n",
    "\n",
    "def use_blingfire(text_input):\n",
    "    wiki_dump_file_in = Path(text_input)\n",
    "    wiki_dump_file_out = wiki_dump_file_in.parent / \\\n",
    "        f'{wiki_dump_file_in.stem}_preprocessed{wiki_dump_file_in.suffix}'\n",
    "\n",
    "    print(f'Pre-processing {wiki_dump_file_in} to {wiki_dump_file_out}...')\n",
    "    with open(wiki_dump_file_out, 'w', encoding='utf-8') as out_f:\n",
    "        with open(wiki_dump_file_in, 'r', encoding='utf-8') as in_f:\n",
    "            for line in in_f:\n",
    "                sentences = text_to_sentences(line)\n",
    "                out_f.write(sentences + '\\n')\n",
    "    print(f'Successfully pre-processed {wiki_dump_file_in} to {wiki_dump_file_out}...')\n",
    "\n",
    "\n",
    "if not os.path.exists('enwiki-latest-pages-articles_preprocessed.txt'):\n",
    "    use_blingfire('enwiki-latest-pages-articles.txt')\n"
   ]
  },
  {
   "cell_type": "code",
   "execution_count": 14,
   "metadata": {
    "tags": []
   },
   "outputs": [
    {
     "output_type": "stream",
     "name": "stdout",
     "text": "0 enwiki-latest-pages-articles_preprocessed.txt\n"
    }
   ],
   "source": [
    "!wc -l enwiki-latest-pages-articles_preprocessed.txt\n"
   ]
  },
  {
   "cell_type": "code",
   "execution_count": 16,
   "metadata": {
    "tags": []
   },
   "outputs": [
    {
     "output_type": "stream",
     "name": "stdout",
     "text": "10000\nhead: -n: No such file or directory\nhead: 10000: No such file or directory\n100000\nhead: -n: No such file or directory\nhead: 100000: No such file or directory\n1000000\nhead: -n: No such file or directory\nhead: 1000000: No such file or directory\n"
    }
   ],
   "source": [
    "for linemag in [4, 5, 6]:\n",
    "    num_lines = 10**linemag\n",
    "    print(num_lines)\n",
    "    !head enwiki-latest-pages-articles_preprocessed.txt -n {num_lines} > sample{num_lines}.txt"
   ]
  },
  {
   "cell_type": "code",
   "execution_count": 8,
   "metadata": {
    "tags": []
   },
   "outputs": [
    {
     "output_type": "stream",
     "name": "stdout",
     "text": "total 72\n-rw-r--r--  1 wojm  staff   210 Aug 18 21:27 README.md\n-rw-r--r--  1 wojm  staff   430 Aug 18 21:31 download_wiki_dump.sh\n-rw-r--r--  1 wojm  staff     0 Aug 18 21:31 enwiki-latest-pages-articles_preprocessed.txt\n-rw-r--r--  1 wojm  staff   663 Aug 18 21:31 extract_and_clean_wiki_dump.sh\n-rw-r--r--  1 wojm  staff  8809 Aug 18 21:30 prepare_data.ipynb\n-rw-r--r--  1 wojm  staff    54 Aug 18 21:31 sample10000.txt\n-rw-r--r--  1 wojm  staff    54 Aug 18 21:31 sample100000.txt\n-rw-r--r--  1 wojm  staff    54 Aug 18 21:31 sample1000000.txt\n"
    }
   ],
   "source": [
    "\n",
    "!ls -l"
   ]
  },
  {
   "cell_type": "code",
   "execution_count": null,
   "metadata": {},
   "outputs": [],
   "source": []
  }
 ],
 "metadata": {
  "kernelspec": {
   "display_name": "Python 3.7.6 64-bit",
   "language": "python",
   "name": "python37664bitd2cbeb81a19c4d94be527555b3ad49dd"
  },
  "language_info": {
   "codemirror_mode": {
    "name": "ipython",
    "version": 3
   },
   "file_extension": ".py",
   "mimetype": "text/x-python",
   "name": "python",
   "nbconvert_exporter": "python",
   "pygments_lexer": "ipython3",
   "version": "3.7.6-final"
  }
 },
 "nbformat": 4,
 "nbformat_minor": 4
}