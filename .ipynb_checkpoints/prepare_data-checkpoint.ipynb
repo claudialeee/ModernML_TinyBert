{
 "cells": [
  {
   "cell_type": "code",
   "execution_count": 1,
   "metadata": {
    "tags": []
   },
   "outputs": [
    {
     "name": "stderr",
     "output_type": "stream",
     "text": [
      "'.' is not recognized as an internal or external command,\n",
      "operable program or batch file.\n"
     ]
    }
   ],
   "source": [
    "import os\n",
    "if not os.path.exists('enwiki-latest-pages-articles.xml.bz2'):\n",
    "    download_str = '''#!/bin/sh\n",
    "set -e\n",
    "\n",
    "LG=$1\n",
    "WIKI_DUMP_NAME=${LG}wiki-latest-pages-articles.xml.bz2\n",
    "WIKI_DUMP_DOWNLOAD_URL=https://dumps.wikimedia.org/${LG}wiki/latest/$WIKI_DUMP_NAME\n",
    "\n",
    "# download latest Wikipedia dump in chosen language\n",
    "echo \"Downloading the latest $LG-language Wikipedia dump from $WIKI_DUMP_DOWNLOAD_URL...\"\n",
    "wget -c $WIKI_DUMP_DOWNLOAD_URL\n",
    "echo \"Succesfully downloaded the latest $LG-language Wikipedia dump to $WIKI_DUMP_NAME\"\n",
    "    '''\n",
    "    with open('download_wiki_dump.sh', 'w') as f:\n",
    "        f.write(download_str)\n",
    "    !chmod +777 download_wiki_dump.sh\n",
    "    !./download_wiki_dump.sh en"
   ]
  },
  {
   "cell_type": "code",
   "execution_count": 2,
   "metadata": {},
   "outputs": [
    {
     "name": "stderr",
     "output_type": "stream",
     "text": [
      "'.' is not recognized as an internal or external command,\n",
      "operable program or batch file.\n"
     ]
    }
   ],
   "source": [
    "if not os.path.exists('enwiki-latest-pages-articles.txt'):\n",
    "    processing_str = '''\n",
    "#!/bin/sh\n",
    "set -e\n",
    "\n",
    "WIKI_DUMP_FILE_IN=$1\n",
    "WIKI_DUMP_FILE_OUT=${WIKI_DUMP_FILE_IN%%.*}.txt\n",
    "\n",
    "# clone the WikiExtractor repository\n",
    "git clone https://github.com/attardi/wikiextractor.git\n",
    "\n",
    "# Master is broken. Check out old version of wikiextractor\n",
    "git checkout e4abb4cbd019b0257824ee47c23dd163919b731b\n",
    "\n",
    "# extract and clean the chosen Wikipedia dump\n",
    "echo \"Extracting and cleaning $WIKI_DUMP_FILE_IN to $WIKI_DUMP_FILE_OUT...\"\n",
    "python wikiextractor/WikiExtractor.py $WIKI_DUMP_FILE_IN --processes 8 -q -o - \\\n",
    "| sed \"/^\\s*\\$/d\" \\\n",
    "| grep -v \"^<doc id=\" \\\n",
    "| grep -v \"</doc>\\$\" \\\n",
    "> $WIKI_DUMP_FILE_OUT\n",
    "echo \"Succesfully extracted and cleaned $WIKI_DUMP_FILE_IN to $WIKI_DUMP_FILE_OUT\"\n",
    "'''\n",
    "    with open('extract_and_clean_wiki_dump.sh', 'w') as f:\n",
    "        f.write(processing_str)\n",
    "    !chmod +777 extract_and_clean_wiki_dump.sh\n",
    "    !./extract_and_clean_wiki_dump.sh enwiki-latest-pages-articles.xml.bz2"
   ]
  },
  {
   "cell_type": "code",
   "execution_count": null,
   "metadata": {},
   "outputs": [],
   "source": [
    "!pip install blingfire\n"
   ]
  },
  {
   "cell_type": "code",
   "execution_count": null,
   "metadata": {
    "tags": []
   },
   "outputs": [],
   "source": [
    "#blingfire text_to_sentence\n",
    "\n",
    "#!/usr/bin/env python\n",
    "# -*- coding: utf-8 -*-\n",
    "import sys\n",
    "from pathlib import Path\n",
    "from blingfire import text_to_sentences\n",
    "\n",
    "def use_blingfire(text_input):\n",
    "    wiki_dump_file_in = Path(text_input)\n",
    "    wiki_dump_file_out = wiki_dump_file_in.parent / \\\n",
    "        f'{wiki_dump_file_in.stem}_preprocessed{wiki_dump_file_in.suffix}'\n",
    "\n",
    "    print(f'Pre-processing {wiki_dump_file_in} to {wiki_dump_file_out}...')\n",
    "    with open(wiki_dump_file_out, 'w', encoding='utf-8') as out_f:\n",
    "        with open(wiki_dump_file_in, 'r', encoding='utf-8') as in_f:\n",
    "            for line in in_f:\n",
    "                sentences = text_to_sentences(line)\n",
    "                out_f.write(sentences + '\\n')\n",
    "    print(f'Successfully pre-processed {wiki_dump_file_in} to {wiki_dump_file_out}...')\n",
    "\n",
    "\n",
    "if not os.path.exists('enwiki-latest-pages-articles_preprocessed.txt'):\n",
    "    use_blingfire('enwiki-latest-pages-articles.txt')"
   ]
  },
  {
   "cell_type": "code",
   "execution_count": null,
   "metadata": {},
   "outputs": [],
   "source": [
    "!wc -l enwiki-latest-pages-articles_preprocessed.txt\n"
   ]
  },
  {
   "cell_type": "code",
   "execution_count": null,
   "metadata": {},
   "outputs": [],
   "source": [
    "\n",
    "for linemag in [4, 5, 6]:\n",
    "    num_lines = 10**linemag\n",
    "    print(num_lines)\n",
    "    !head enwiki-latest-pages-articles_preprocessed.txt -n {num_lines} > sample{num_lines}.txt"
   ]
  },
  {
   "cell_type": "code",
   "execution_count": null,
   "metadata": {},
   "outputs": [],
   "source": [
    "!ls -l\n"
   ]
  },
  {
   "cell_type": "code",
   "execution_count": null,
   "metadata": {},
   "outputs": [],
   "source": []
  }
 ],
 "metadata": {
  "kernelspec": {
   "display_name": "Python 3",
   "language": "python",
   "name": "python3"
  },
  "language_info": {
   "codemirror_mode": {
    "name": "ipython",
    "version": 3
   },
   "file_extension": ".py",
   "mimetype": "text/x-python",
   "name": "python",
   "nbconvert_exporter": "python",
   "pygments_lexer": "ipython3",
   "version": "3.7.3"
  }
 },
 "nbformat": 4,
 "nbformat_minor": 4
}
