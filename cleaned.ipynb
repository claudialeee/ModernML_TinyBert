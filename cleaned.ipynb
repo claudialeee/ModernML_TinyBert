{
 "cells": [
  {
   "cell_type": "code",
   "execution_count": 8,
   "metadata": {},
   "outputs": [
    {
     "data": {
      "text/plain": [
       "['data.py', 'pretrained_model.py', 'transformer.py', 'utils.py']"
      ]
     },
     "execution_count": 8,
     "metadata": {},
     "output_type": "execute_result"
    }
   ],
   "source": [
    "import os\n",
    "[f for f in os.listdir() if '.py' in f]"
   ]
  },
  {
   "cell_type": "code",
   "execution_count": 9,
   "metadata": {},
   "outputs": [],
   "source": [
    "from data import *\n",
    "from utils import *\n",
    "from pretrained_model import *\n",
    "from transformer import *"
   ]
  },
  {
   "cell_type": "code",
   "execution_count": 10,
   "metadata": {},
   "outputs": [],
   "source": [
    "dataset = CustomDataset('enwiki-latest-pages-articles_preprocessed.txt')\n",
    "\n",
    "#Wrap it around a dataloader\n",
    "dataloader = DataLoader(dataset, batch_size = 2, num_workers = 0)"
   ]
  },
  {
   "cell_type": "code",
   "execution_count": 11,
   "metadata": {},
   "outputs": [],
   "source": [
    "from torch.nn.functional import leaky_relu\n"
   ]
  },
  {
   "cell_type": "code",
   "execution_count": 12,
   "metadata": {},
   "outputs": [],
   "source": [
    "trf =  Transformer(d_model = 100, nhead = 2, num_encoder_layers = 3, \n",
    "                   dim_feedforward = 100, dropout = .1, activation = 'lrelu')"
   ]
  },
  {
   "cell_type": "code",
   "execution_count": 143,
   "metadata": {},
   "outputs": [
    {
     "data": {
      "text/plain": [
       "torch.Size([10, 32, 100])"
      ]
     },
     "execution_count": 143,
     "metadata": {},
     "output_type": "execute_result"
    }
   ],
   "source": [
    "trf(torch.rand((10, 32, 100)), src_key_padding_mask=torch.ones((32, 10))).shape"
   ]
  },
  {
   "cell_type": "code",
   "execution_count": 13,
   "metadata": {},
   "outputs": [],
   "source": [
    "pretrained = PretrainedModel()"
   ]
  },
  {
   "cell_type": "code",
   "execution_count": 43,
   "metadata": {},
   "outputs": [
    {
     "data": {
      "text/plain": [
       "torch.Size([32, 10, 100])"
      ]
     },
     "execution_count": 43,
     "metadata": {},
     "output_type": "execute_result"
    }
   ],
   "source": [
    "torch.transpose(torch.rand((10, 32, 100)), 1, 0).shape"
   ]
  },
  {
   "cell_type": "code",
   "execution_count": 44,
   "metadata": {},
   "outputs": [],
   "source": [
    "class Embedder(nn.Module):\n",
    "    def __init__(self, vocab_size, d_model):\n",
    "        super().__init__()\n",
    "        self.embed = nn.Embedding(vocab_size, d_model)\n",
    "    def forward(self, x):\n",
    "        return self.embed(x)"
   ]
  },
  {
   "cell_type": "code",
   "execution_count": 57,
   "metadata": {},
   "outputs": [],
   "source": [
    "import math\n",
    "class PositionalEncoding(nn.Module):\n",
    "\n",
    "    def __init__(self, d_model, dropout=0.1, max_len=5000):\n",
    "        super(PositionalEncoding, self).__init__()\n",
    "#         self.dropout = nn.Dropout(p=dropout)\n",
    "\n",
    "        pe = torch.zeros(max_len, d_model)\n",
    "        position = torch.arange(0, max_len, dtype=torch.float).unsqueeze(1)\n",
    "        div_term = torch.exp(torch.arange(0, d_model, 2).float() * (-math.log(10000.0) / d_model))\n",
    "        pe[:, 0::2] = torch.sin(position * div_term)\n",
    "        pe[:, 1::2] = torch.cos(position * div_term)\n",
    "        pe = pe.unsqueeze(0).transpose(0, 1)\n",
    "        self.register_buffer('pe', pe)\n",
    "\n",
    "    def forward(self, x):\n",
    "        x = x + self.pe[:x.size(0), :]\n",
    "        return x"
   ]
  },
  {
   "cell_type": "code",
   "execution_count": 60,
   "metadata": {},
   "outputs": [
    {
     "data": {
      "text/plain": [
       "torch.Size([1, 3, 4])"
      ]
     },
     "execution_count": 60,
     "metadata": {},
     "output_type": "execute_result"
    }
   ],
   "source": [
    "emb = Embedder(5, 4)\n",
    "PE(emb(torch.tensor([[1, 2, 3]]))).shape"
   ]
  },
  {
   "cell_type": "code",
   "execution_count": 52,
   "metadata": {},
   "outputs": [],
   "source": [
    "tok = BertTokenizer.from_pretrained('bert-base-uncased')\n",
    "\n",
    "VOCAB_SIZE = vocab_size = tok.vocab_size"
   ]
  },
  {
   "cell_type": "code",
   "execution_count": 170,
   "metadata": {},
   "outputs": [],
   "source": [
    "class TinyBert(nn.Module):\n",
    "    def __init__(self, vocab_size = VOCAB_SIZE, emb_size=10):\n",
    "        super(TinyBert, self).__init__()\n",
    "        self.emb_size = emb_size\n",
    "        self.model = Transformer(\n",
    "            d_model = emb_size, nhead = 2, num_encoder_layers = 3, \n",
    "            dim_feedforward = emb_size, dropout = .1, activation = 'lrelu')\n",
    "        self.embedder = Embedder(vocab_size, emb_size)\n",
    "        self.PE = PositionalEncoding(emb_size)\n",
    "    def forward(self, src, mask=None):\n",
    "        if mask is None:\n",
    "            mask = torch.ones_like(src, dtype = float)\n",
    "        #reshaping cus trf module is stupid\n",
    "        self.mask = mask\n",
    "        self.emb_raw = emb_raw = self.embedder(src)\n",
    "        self.emb = emb = self.PE(emb_raw)\n",
    "        self.emb_transposed = emb_transposed = torch.transpose(emb, 1, 0)\n",
    "        self.trf_output = trf_output = self.model(emb_transposed, src_key_padding_mask=mask)\n",
    "        return trf_output"
   ]
  },
  {
   "cell_type": "code",
   "execution_count": 171,
   "metadata": {},
   "outputs": [],
   "source": [
    "tb = TinyBert()"
   ]
  },
  {
   "cell_type": "code",
   "execution_count": 173,
   "metadata": {
    "scrolled": true
   },
   "outputs": [],
   "source": [
    "# tb(torch.tensor([[1, 2, 3]]))"
   ]
  },
  {
   "cell_type": "code",
   "execution_count": 208,
   "metadata": {},
   "outputs": [],
   "source": [
    "# from tensorflow.python.keras.preprocessing.sequence import pad_sequences\n",
    "import torch.optim as optim\n",
    "\n",
    "class Model(nn.Module):\n",
    "    def __init__(self):\n",
    "        super(Model, self).__init__()\n",
    "        self.pretrained_model = PretrainedModel()\n",
    "        self.tinybert = TinyBert()\n",
    "#         self.tinybert = Transformer(d_model = 100, nhead = 2, num_encoder_layers = 3, \n",
    "#                    dim_feedforward = 100, dropout = .1, activation = 'lrelu')\n",
    "        self.tokenizer = self.pretrained_model.tokenizer\n",
    "        self.y = []\n",
    "        self.optimizer = optim.RMSprop(self.parameters(), lr=0.01)\n",
    "\n",
    "    def forward(self, text):\n",
    "        if isinstance(text[0], list):\n",
    "            return self.forward_sentence(text)\n",
    "        elif isinstance(text[0], str):\n",
    "            return self.forward_maskLM(text)\n",
    "        else:\n",
    "            raise ValueError('wtf is this text?' + text + type(text[0]))\n",
    "            \n",
    "    def preprocess_LM(self, text):\n",
    "        self.y = []\n",
    "        sentences = [build_sentence_list(\n",
    "            'CLS', [self.tokenizer.tokenize(line)]) for line in text]\n",
    "        \n",
    "        lengths = [len(sentence) - 2 for sentence in sentences]\n",
    "        mask_idxes = [np.random.randint(0, length) for length in lengths]\n",
    "        \n",
    "        masks = [np.ones(length + 2) for length in lengths]\n",
    "        for mask_idx, mask, sentence in zip(mask_idxes, masks, sentences):\n",
    "            mask[mask_idx + 1] = 0\n",
    "            self.y.append(sentence[mask_idx + 1])\n",
    "            sentence[mask_idx + 1] = '[MASK]'\n",
    "        self.attention_mask = attention_mask = to_cuda(torch.tensor(pad_sequences(masks, padding='post')))\n",
    "        self.tokenized_text = tokenized_text = to_cuda(torch.tensor(pad_sequences([\n",
    "            self.tokenizer.convert_tokens_to_ids(sentence) for sentence in sentences]).tolist()))\n",
    "        return tokenized_text, attention_mask\n",
    "    def forward_maskLM(self, text):\n",
    "        tokenized_text, attention_mask = self.preprocess_LM(text)\n",
    "        self.pretrained_hidden = pretrained_hidden = self.pretrained_model(\n",
    "            tokenized_text = tokenized_text, attention_mask = attention_mask)\n",
    "        self.tb_out = tb_out = self.tinybert(tokenized_text, mask=attention_mask)\n",
    "        self.tb_out_masked = tb_out_masked = tb_out * attention_mask.transpose(1, 0).unsqueeze(-1)\n",
    "        return tb_out_masked\n",
    "        "
   ]
  },
  {
   "cell_type": "code",
   "execution_count": 209,
   "metadata": {},
   "outputs": [],
   "source": [
    "\n",
    "mdl = Model()"
   ]
  },
  {
   "cell_type": "code",
   "execution_count": 213,
   "metadata": {},
   "outputs": [],
   "source": [
    "dataset = CustomDataset('enwiki-latest-pages-articles_preprocessed.txt')\n",
    "\n",
    "#Wrap it around a dataloader\n",
    "dataloader = DataLoader(dataset, batch_size = 8, num_workers = 0, shuffle=True)\n"
   ]
  },
  {
   "cell_type": "code",
   "execution_count": 216,
   "metadata": {},
   "outputs": [
    {
     "name": "stdout",
     "output_type": "stream",
     "text": [
      "8 ['These interactions were the last time Cobain saw his daughter.', 'Cambridge is home to the following commercially licensed and student-run radio stations: ', \"Elizabeth's work had a major influence on prominent writers of the day, including the American poets Edgar Allan Poe and Emily Dickinson.\", 'Additionally, Aaron owns a chain of 30 restaurants around the country.', 'Gilbert Arthur Ã\\xa0 Beckett ', 'The defense of Little Round Top with a bayonet charge by the 20th Maine, ordered by Col. Joshua L. Chamberlain but possibly led by Lt. Holman S. Melcher, was one of the most fabled episodes in the Civil War and propelled Col. Chamberlain into prominence after the war.', \"Increase Mather was said to have publicly burned Calef's book in Harvard Yard around the time he was removed from the head of the college and replaced by Samuel Willard.\", 'Districts may apply to the British Crown for the grant of borough status upon advice of the Privy Council of the United Kingdom.']\n",
      "8 ['The Viking expansion out of Scandinavia into southern and eastern Europe, Iceland and Greenland.', 'To allow that character to exist as he would exist.', 'This time the struggle is for our independence.\"', 'Angiosperms produce seeds enclosed in a structure such as a carpel or an ovary.', 'Burning hydrocarbons as fuel, producing carbon dioxide and water, is a major contributor to anthropogenic global warming.', 'It has no stables, kennels, or smithies, but the towers can house 500 men, and the granary can sustain a small household for a year or more.', 'This debt is predominantly owned by Japanese nationals.', 'The concrete provisions added to this version of the Wall were done to prevent escapees from driving their cars through the barricades.']\n",
      "8 ['Rumsfeld was the subject of the 2013 Errol Morris documentary \"The Unknown Known\", the title a reference to his response to a question at a February 2002 press conference.', 'His sister is the record producer Nora Guthrie.', 'The use of the apostrophe in the name \"Yup\\'ik\" is a written convention to denote the long pronunciation of the \"p\" sound; but it is spoken the same in other Yupik languages.', 'The court ruled that Potter\\'s sentencing statement about Bakker, that \"those of us who do have a religion are sick of being saps for money-grubbing preachers and priests\", was evidence that the judge had injected his religious beliefs into Bakker\\'s sentence.', \"These represent either teraphim or the first example of portraiture in art history, and it is thought that they were kept in people's homes while the bodies were buried.\", \"It is observable in offerings to rivers, trees, tools of one's work, animals and birds, rising sun, friends and guests, teachers and parents.\", 'In cases such as \"Martin v.', 'The Cold War dominated European geo-politics from 1947 to 1989.']\n"
     ]
    }
   ],
   "source": [
    "itr = 0\n",
    "for text in dataloader:\n",
    "    print(len(text), text)\n",
    "    itr += 1\n",
    "    if itr > 2:\n",
    "        break"
   ]
  },
  {
   "cell_type": "code",
   "execution_count": 203,
   "metadata": {},
   "outputs": [
    {
     "data": {
      "text/plain": [
       "torch.Size([4, 2, 10])"
      ]
     },
     "execution_count": 203,
     "metadata": {},
     "output_type": "execute_result"
    }
   ],
   "source": [
    "\n",
    "mdl(['hi there', 'strawberries']).shape"
   ]
  },
  {
   "cell_type": "code",
   "execution_count": null,
   "metadata": {},
   "outputs": [],
   "source": []
  },
  {
   "cell_type": "code",
   "execution_count": null,
   "metadata": {},
   "outputs": [],
   "source": []
  }
 ],
 "metadata": {
  "kernelspec": {
   "display_name": "Python 3",
   "language": "python",
   "name": "python3"
  }
 },
 "nbformat": 4,
 "nbformat_minor": 4
}
